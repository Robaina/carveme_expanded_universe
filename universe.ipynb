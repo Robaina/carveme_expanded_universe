{
 "cells": [
  {
   "cell_type": "markdown",
   "metadata": {},
   "source": [
    "## NOTES:\n",
    "\n",
    "1) Why not first transfer reactions to cytoplasm and keep prokaryotic compartments and then run carveme's universe curation pipeline? We still would have the issue of futile cycles, which we could deactivate."
   ]
  },
  {
   "cell_type": "code",
   "execution_count": 1,
   "metadata": {},
   "outputs": [
    {
     "name": "stdout",
     "output_type": "stream",
     "text": [
      "Set parameter Username\n",
      "Academic license - for non-commercial use only - expires 2023-11-05\n"
     ]
    },
    {
     "data": {
      "text/html": [
       "\n",
       "        <table>\n",
       "            <tr>\n",
       "                <td><strong>Name</strong></td>\n",
       "                <td>bigg_universal</td>\n",
       "            </tr><tr>\n",
       "                <td><strong>Memory address</strong></td>\n",
       "                <td>7f84ec019bd0</td>\n",
       "            </tr><tr>\n",
       "                <td><strong>Number of metabolites</strong></td>\n",
       "                <td>15638</td>\n",
       "            </tr><tr>\n",
       "                <td><strong>Number of reactions</strong></td>\n",
       "                <td>28301</td>\n",
       "            </tr><tr>\n",
       "                <td><strong>Number of genes</strong></td>\n",
       "                <td>0</td>\n",
       "            </tr><tr>\n",
       "                <td><strong>Number of groups</strong></td>\n",
       "                <td>0</td>\n",
       "            </tr><tr>\n",
       "                <td><strong>Objective expression</strong></td>\n",
       "                <td>1.0*BIOMASS_reaction - 1.0*BIOMASS_reaction_reverse_5a818</td>\n",
       "            </tr><tr>\n",
       "                <td><strong>Compartments</strong></td>\n",
       "                <td>cytoplasm, extracellular, periplasm, mitochondrion, peroxisome, unknown, nucleus, vacuole, golgi, thylakoid, lysosome, chloroplast, eyespot, flagellum, mitochondrial intermembrane space, unknown, unknown, unknown, unknown, mitochondrial membrane, cell wall, unknown</td>\n",
       "            </tr>\n",
       "          </table>"
      ],
      "text/plain": [
       "<Model bigg_universal at 0x7f84ec019bd0>"
      ]
     },
     "execution_count": 1,
     "metadata": {},
     "output_type": "execute_result"
    }
   ],
   "source": [
    "import cobra\n",
    "\n",
    "\n",
    "uniprok = cobra.io.read_sbml_model(\"/home/robaina/Documents/NewAtlantis/phycosphere/data/carveme_universes/BIGG_universal_model/universal_model_cobrapy.xml\")\n",
    "uniprok"
   ]
  },
  {
   "cell_type": "markdown",
   "metadata": {},
   "source": [
    "## Preprocess universal model\n",
    "\n",
    "Preprocess to remove non-prokaryotic compartments and transfer reactions to cytoplasm. This is to avoid CarveME's curation pipeline removing these reactions."
   ]
  },
  {
   "cell_type": "code",
   "execution_count": 6,
   "metadata": {},
   "outputs": [],
   "source": [
    "# from reconstruction import remove_shuttle_reactions, move_reactions_to_cytoplasm\n",
    "import shutil\n",
    "import gzip\n",
    "\n",
    "import cobra\n",
    "from cobra import Reaction\n",
    "\n",
    "\n",
    "def gunzip_file(source_filepath, dest_filepath):\n",
    "    with gzip.open(source_filepath, 'rb') as src_file:\n",
    "        with open(dest_filepath, 'wb') as dest_file:\n",
    "            shutil.copyfileobj(src_file, dest_file)\n",
    "\n",
    "\n",
    "def remove_shuttle_reactions(\n",
    "    model, allowed_compartments: set = {\"c\", \"e\", \"p\"}\n",
    "):\n",
    "    \"\"\"\n",
    "    Remove shuttle reactions between unwanted compartments.\n",
    "\n",
    "    Args:\n",
    "        model (Model): _description_\n",
    "        allowed_compartments (set, optional): _description_. Defaults to {\"c\", \"e\", \"p\"}.\n",
    "\n",
    "    Returns:\n",
    "        Model: _description_\n",
    "    \"\"\"\n",
    "    shuttle_rxns_in_unwanted_compartments = [\n",
    "        rxn\n",
    "        for rxn in model.reactions\n",
    "        if (\n",
    "            (len(rxn.compartments) > 1)\n",
    "            and (not rxn.compartments.issubset(allowed_compartments))\n",
    "        )\n",
    "    ]\n",
    "    model.remove_reactions(shuttle_rxns_in_unwanted_compartments, remove_orphans=True)\n",
    "    return model\n",
    "\n",
    "\n",
    "def move_reactions_to_cytoplasm(\n",
    "    model, allowed_compartments: set = {\"c\", \"e\", \"p\"}\n",
    "):\n",
    "    \"\"\"\n",
    "    Update the metabolites of a reaction to include a new set of metabolites\n",
    "    Args:\n",
    "        reaction (Reaction): _description_\n",
    "        allowed_compartments (set, optional): _description_. Defaults to {\"c\", \"e\", \"p\"}.\n",
    "\n",
    "    Returns:\n",
    "        Reaction: _description_\n",
    "    \"\"\"\n",
    "    reactions_to_add = []\n",
    "    reactions_to_remove = []\n",
    "    for reaction in model.reactions:\n",
    "        if not reaction.compartments.issubset(allowed_compartments):\n",
    "\n",
    "            new_metabolites = {}\n",
    "            for metabolite, stoich in reaction.metabolites.items():\n",
    "                new_met_id = metabolite.id[:-1] + \"c\"\n",
    "                new_metabolite = (\n",
    "                    model.metabolites.get_by_id(new_met_id)\n",
    "                    if new_met_id in model.metabolites\n",
    "                    else metabolite.copy()\n",
    "                )\n",
    "                new_metabolite.compartment = \"c\"\n",
    "                new_metabolite.id = new_met_id\n",
    "                if new_met_id not in model.metabolites:\n",
    "                    model.add_metabolites([new_metabolite])\n",
    "                    model.remove_metabolites([metabolite])\n",
    "                new_metabolites[new_metabolite] = stoich\n",
    "\n",
    "            new_reaction = Reaction(\n",
    "                id=reaction.id,\n",
    "                name=reaction.name,\n",
    "                lower_bound=reaction.lower_bound,\n",
    "                upper_bound=reaction.upper_bound,\n",
    "                subsystem=reaction.subsystem,\n",
    "            )\n",
    "            new_reaction.gene_reaction_rule = reaction.gene_reaction_rule\n",
    "            new_reaction.add_metabolites(new_metabolites)\n",
    "            reactions_to_add.append(new_reaction)\n",
    "            reactions_to_remove.append(reaction)\n",
    "\n",
    "    model.remove_reactions(reactions_to_remove, remove_orphans=True)\n",
    "    model.add_reactions(reactions_to_add)\n",
    "    return model"
   ]
  },
  {
   "cell_type": "code",
   "execution_count": 5,
   "metadata": {},
   "outputs": [],
   "source": [
    "## Load universal BIGG model\n",
    "# gunzip_file(\"carveme/data/generated/bigg_universe.xml.gz\", \"universal_bigg_model.xml\")\n",
    "# uniprok = cobra.io.read_sbml_model(\"universal_bigg_model.xml\")\n",
    "# uniprok"
   ]
  },
  {
   "cell_type": "code",
   "execution_count": 6,
   "metadata": {},
   "outputs": [
    {
     "data": {
      "text/html": [
       "\n",
       "        <table>\n",
       "            <tr>\n",
       "                <td><strong>Name</strong></td>\n",
       "                <td>bigg_universal</td>\n",
       "            </tr><tr>\n",
       "                <td><strong>Memory address</strong></td>\n",
       "                <td>7f84ec019bd0</td>\n",
       "            </tr><tr>\n",
       "                <td><strong>Number of metabolites</strong></td>\n",
       "                <td>11970</td>\n",
       "            </tr><tr>\n",
       "                <td><strong>Number of reactions</strong></td>\n",
       "                <td>25787</td>\n",
       "            </tr><tr>\n",
       "                <td><strong>Number of genes</strong></td>\n",
       "                <td>0</td>\n",
       "            </tr><tr>\n",
       "                <td><strong>Number of groups</strong></td>\n",
       "                <td>0</td>\n",
       "            </tr><tr>\n",
       "                <td><strong>Objective expression</strong></td>\n",
       "                <td>0</td>\n",
       "            </tr><tr>\n",
       "                <td><strong>Compartments</strong></td>\n",
       "                <td>cytoplasm, extracellular, periplasm</td>\n",
       "            </tr>\n",
       "          </table>"
      ],
      "text/plain": [
       "<Model bigg_universal at 0x7f84ec019bd0>"
      ]
     },
     "execution_count": 6,
     "metadata": {},
     "output_type": "execute_result"
    }
   ],
   "source": [
    "prok_compartments = {\"e\", \"c\", \"p\"}\n",
    "uniprok = remove_shuttle_reactions(uniprok, allowed_compartments=prok_compartments)\n",
    "uniprok = move_reactions_to_cytoplasm(uniprok)\n",
    "uniprok"
   ]
  },
  {
   "cell_type": "markdown",
   "metadata": {},
   "source": [
    "## Annotate metabolites"
   ]
  },
  {
   "cell_type": "code",
   "execution_count": 11,
   "metadata": {},
   "outputs": [],
   "source": [
    "import pandas as pd\n",
    "import re\n",
    "\n",
    "\n",
    "def remove_compartment(met_id: str) -> str:\n",
    "    return re.sub(r\"_[a-z]$\", \"\", met_id)\n",
    "\n",
    "\n",
    "def annotate_compounds(model, cpd_annotations):\n",
    "    \"\"\"\n",
    "    Annotate compounds in model: chemical formulae and charge\n",
    "\n",
    "    Args:\n",
    "        model (Model): _description_\n",
    "        cpd_annotations (Path): _description_\n",
    "\n",
    "    Returns:\n",
    "        Model: _description_\n",
    "    \"\"\"\n",
    "    cpd_db = pd.read_csv(cpd_annotations, sep=\"\\t\", index_col=0)\n",
    "    for met in model.metabolites:\n",
    "        met_id = remove_compartment(met.id)\n",
    "        if met_id in cpd_db.index:\n",
    "            met.formula = cpd_db.loc[met_id, \"formula\"]\n",
    "            met.charge = cpd_db.loc[met_id, \"charge\"]\n",
    "    return model"
   ]
  },
  {
   "cell_type": "code",
   "execution_count": 12,
   "metadata": {},
   "outputs": [],
   "source": [
    "uniprok = cobra.io.read_sbml_model(\"universal_prokaryote.xml\")\n",
    "\n",
    "cpd_annotations = \"/home/robaina/Documents/NewAtlantis/phycosphere/data/carveme_universes/mnx_compounds.tsv\"\n",
    "uniprok = annotate_compounds(uniprok, cpd_annotations)"
   ]
  },
  {
   "cell_type": "markdown",
   "metadata": {},
   "source": [
    "## Change SBML flavor for compatibility"
   ]
  },
  {
   "cell_type": "code",
   "execution_count": 1,
   "metadata": {},
   "outputs": [],
   "source": [
    "# from reframed import load_cbmodel, save_cbmodel, from_cobrapy\n",
    "\n",
    "# # model = load_cbmodel(\n",
    "# #     \"/home/robaina/Documents/NewAtlantis/phycosphere/data/carveme_universes/BIGG_universal_model/universal_model_cobrapy.xml\",\n",
    "# #      flavor=\"fbc2\"\n",
    "# #      )\n",
    "\n",
    "# model = from_cobrapy(uniprok)\n",
    "\n",
    "# # save_cbmodel(model, \"universal_model_bigg_flavor.xml\", flavor=\"bigg\")   ## this one doesn't exist but included in cofig?\n",
    "# # save_cbmodel(model, \"universal_model_cobra_flavor.xml\", flavor=\"cobra\")\n",
    "# save_cbmodel(model, \"universal_model_fbc2_flavor.xml\", flavor=\"fbc2\")\n",
    "\n",
    "# # gunzip_file(\"carveme/data/generated/model_specific_data.csv.gz\", \"universal_model_bigg_flavor.csv\")\n",
    "# # gunzip_file(\"carveme/data/generated/model_specific_data.csv.gz\", \"universal_model_cobra_flavor.csv\")\n",
    "# gunzip_file(\"carveme/data/generated/model_specific_data.csv.gz\", \"universal_model_fbc2_flavor.csv\")"
   ]
  },
  {
   "cell_type": "code",
   "execution_count": null,
   "metadata": {},
   "outputs": [],
   "source": [
    "# from cobra.io import read_sbml_model\n",
    "# from reframed import from_cobrapy, FBA\n",
    "\n",
    "# cb_model = read_sbml_model(\"e_coli_core.xml\")\n",
    "# rf_model = from_cobrapy(cb_model)"
   ]
  },
  {
   "cell_type": "markdown",
   "metadata": {},
   "source": [
    "## Write updated raw universal model\n",
    "\n",
    "and perhaps generate the model specific data file?"
   ]
  },
  {
   "cell_type": "code",
   "execution_count": 13,
   "metadata": {},
   "outputs": [],
   "source": [
    "cobra.io.write_sbml_model(uniprok, \"universal_prokaryote.xml\")\n",
    "gunzip_file(\"carveme/data/generated/model_specific_data.csv.gz\", \"universal_prokaryote.csv\")"
   ]
  },
  {
   "cell_type": "code",
   "execution_count": 14,
   "metadata": {},
   "outputs": [
    {
     "name": "stdout",
     "output_type": "stream",
     "text": [
      "Curating bacteria universe...\n",
      "Initial model size: 11970 x 25787\n",
      "Computing missing formulae...\n",
      "Removing unbalanced reactions..\n",
      "found 5375 reactions\n",
      "Current model size: 10395 x 19915\n",
      "Trying to correct proton and charge balance...\n",
      "Trying to fix hydrogen stoichiometry...\n",
      "Removing blocked reactions and dead-end metabolites...\n",
      "Final model size: 6861 x 17851\n"
     ]
    }
   ],
   "source": [
    "from carveme.cli.curate_universe import curate\n",
    "\n",
    "\n",
    "curate(\n",
    "    inputfile=\"universal_prokaryote.xml\",\n",
    "    outputfile=\"prokaryote_carveme_curated.xml\",\n",
    "    taxa=\"bacteria\",\n",
    "    biomass=\"bacteria\",\n",
    "    biomass_db_path=\"carveme/data/input/biomass_db.tsv\",\n",
    "    normalize_biomass=False,\n",
    ")"
   ]
  }
 ],
 "metadata": {
  "kernelspec": {
   "display_name": "nal",
   "language": "python",
   "name": "python3"
  },
  "language_info": {
   "codemirror_mode": {
    "name": "ipython",
    "version": 3
   },
   "file_extension": ".py",
   "mimetype": "text/x-python",
   "name": "python",
   "nbconvert_exporter": "python",
   "pygments_lexer": "ipython3",
   "version": "3.11.4"
  },
  "orig_nbformat": 4
 },
 "nbformat": 4,
 "nbformat_minor": 2
}
